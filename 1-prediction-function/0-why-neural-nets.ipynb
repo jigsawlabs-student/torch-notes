{
 "cells": [
  {
   "cell_type": "markdown",
   "id": "attempted-grocery",
   "metadata": {},
   "source": [
    "# Why Neural Nets"
   ]
  },
  {
   "cell_type": "markdown",
   "id": "advised-insider",
   "metadata": {},
   "source": [
    "### Before Neural Nets"
   ]
  },
  {
   "cell_type": "markdown",
   "id": "following-structure",
   "metadata": {},
   "source": [
    "* Structured data"
   ]
  },
  {
   "cell_type": "markdown",
   "id": "ongoing-exchange",
   "metadata": {},
   "source": [
    "> <img src=\"./uci-bank-tabular.png\" width=\"60%\">"
   ]
  },
  {
   "cell_type": "markdown",
   "id": "excessive-hobby",
   "metadata": {},
   "source": [
    "## Unstructured Data"
   ]
  },
  {
   "cell_type": "markdown",
   "id": "useful-mason",
   "metadata": {},
   "source": [
    "### Text\n",
    "\n",
    "> <img src=\"./harry_potter_text.png\" width=\"20%\">"
   ]
  },
  {
   "cell_type": "markdown",
   "id": "satisfied-insert",
   "metadata": {},
   "source": [
    "### Audio"
   ]
  },
  {
   "cell_type": "markdown",
   "id": "realistic-brunei",
   "metadata": {},
   "source": [
    "> <img src=\"./audio_neural_nets.png\" width=\"60%\">"
   ]
  },
  {
   "cell_type": "markdown",
   "id": "athletic-survey",
   "metadata": {},
   "source": [
    "### Image Recognition"
   ]
  },
  {
   "cell_type": "markdown",
   "id": "apparent-karaoke",
   "metadata": {},
   "source": [
    "<img src=\"./MnistExamples.png\" width=\"40%\">"
   ]
  },
  {
   "cell_type": "code",
   "execution_count": null,
   "id": "outer-still",
   "metadata": {},
   "outputs": [],
   "source": [
    " "
   ]
  },
  {
   "cell_type": "markdown",
   "id": "warming-connectivity",
   "metadata": {},
   "source": [
    "<img src=\"./fashion-mnist.jpeg\" width=\"60%\">"
   ]
  },
  {
   "cell_type": "markdown",
   "id": "appointed-information",
   "metadata": {},
   "source": [
    "### Amounts"
   ]
  },
  {
   "cell_type": "markdown",
   "id": "senior-audit",
   "metadata": {},
   "source": [
    "<img src=\"./structured-vs-unstructured.jpeg\" width=\"80%\">"
   ]
  },
  {
   "cell_type": "markdown",
   "id": "authorized-tomorrow",
   "metadata": {},
   "source": [
    "### Generating Text"
   ]
  },
  {
   "cell_type": "markdown",
   "id": "atomic-quantity",
   "metadata": {},
   "source": [
    "<img src=\"./GitHub-Copilot-1.gif\" width=\"60%\">"
   ]
  },
  {
   "cell_type": "code",
   "execution_count": null,
   "id": "located-metro",
   "metadata": {},
   "outputs": [],
   "source": []
  }
 ],
 "metadata": {
  "kernelspec": {
   "display_name": "Python 3",
   "language": "python",
   "name": "python3"
  },
  "language_info": {
   "codemirror_mode": {
    "name": "ipython",
    "version": 3
   },
   "file_extension": ".py",
   "mimetype": "text/x-python",
   "name": "python",
   "nbconvert_exporter": "python",
   "pygments_lexer": "ipython3",
   "version": "3.8.6"
  }
 },
 "nbformat": 4,
 "nbformat_minor": 5
}
